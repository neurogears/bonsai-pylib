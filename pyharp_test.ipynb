{
 "cells": [
  {
   "cell_type": "code",
   "execution_count": 18,
   "metadata": {},
   "outputs": [],
   "source": [
    "import clr\n",
    "from bonsai_pylib import load_bonsai_config\n",
    "\n",
    "load_bonsai_config()\n",
    "\n",
    "import System\n",
    "\n",
    "# Add reference to the Harp package\n",
    "clr.AddReference(\"Bonsai.Harp\")\n",
    "# Import the Harp package\n",
    "import Bonsai.Harp as harp\n"
   ]
  },
  {
   "cell_type": "code",
   "execution_count": 19,
   "metadata": {},
   "outputs": [
    {
     "name": "stdout",
     "output_type": "stream",
     "text": [
      "32\n",
      "Float\n",
      "1.0\n"
     ]
    }
   ],
   "source": [
    "# Create and parse a Harp message\n",
    "an_harp_message = harp.HarpMessage.FromSingle(32, harp.MessageType.Write, 1.0)\n",
    "print(harp.HarpMessage.get_Address(an_harp_message))\n",
    "print(harp.HarpMessage.get_PayloadType(an_harp_message))\n",
    "print(harp.HarpMessage.GetPayloadSingle(an_harp_message))"
   ]
  },
  {
   "cell_type": "code",
   "execution_count": 20,
   "metadata": {},
   "outputs": [
    {
     "name": "stdout",
     "output_type": "stream",
     "text": [
      "32\n",
      "U8\n",
      "20\n"
     ]
    }
   ],
   "source": [
    "# now in bytes...\n",
    "an_harp_message_in_bytes = harp.HarpMessage.FromByte(32, harp.MessageType.Write, 20)\n",
    "print(harp.HarpMessage.get_Address(an_harp_message_in_bytes))\n",
    "print(harp.HarpMessage.get_PayloadType(an_harp_message_in_bytes))\n",
    "print(harp.HarpMessage.GetPayloadByte(an_harp_message_in_bytes))"
   ]
  },
  {
   "cell_type": "code",
   "execution_count": null,
   "metadata": {},
   "outputs": [],
   "source": [
    "## Configure an Harp device by using the AsyncDevice class\n",
    "device = harp.AsyncDevice(\"COM5\")\n",
    "print(device.ReadHardwareVersionAsync().get_Result())\n",
    "print(device.ReadByteAsync(11).get_Result())\n",
    "print(device.ReadInt16Async(44).get_Result())\n",
    "print(device.WriteByteAsync(11,1).get_Result())\n",
    "device.Dispose() # Make sure to dispose the device when done\n"
   ]
  }
 ],
 "metadata": {
  "kernelspec": {
   "display_name": "bonsaipylib",
   "language": "python",
   "name": "python3"
  },
  "language_info": {
   "codemirror_mode": {
    "name": "ipython",
    "version": 3
   },
   "file_extension": ".py",
   "mimetype": "text/x-python",
   "name": "python",
   "nbconvert_exporter": "python",
   "pygments_lexer": "ipython3",
   "version": "3.9.16"
  },
  "orig_nbformat": 4,
  "vscode": {
   "interpreter": {
    "hash": "142aaf296a17ec69a5229859294888777f9584141d8b013303a42e4a7fcdf6c7"
   }
  }
 },
 "nbformat": 4,
 "nbformat_minor": 2
}
