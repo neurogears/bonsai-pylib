{
 "cells": [
  {
   "cell_type": "code",
   "execution_count": 12,
   "metadata": {},
   "outputs": [],
   "source": [
    "import clr\n",
    "from bonsai_pylib import load_bonsai_config\n",
    "load_bonsai_config()\n",
    "\n",
    "# Add reference to the Harp package\n",
    "clr.AddReference(\"Harp.VestibularH1\")\n",
    "import Harp.VestibularH1 as h1Dev\n",
    "clr.AddReference(\"Bonsai.Harp\")\n",
    "import Bonsai.Harp as harp\n"
   ]
  },
  {
   "cell_type": "code",
   "execution_count": 13,
   "metadata": {},
   "outputs": [
    {
     "ename": "UnauthorizedAccessException",
     "evalue": "Access to the port 'COM5' is denied.\r\n   at System.IO.Ports.InternalResources.WinIOError(Int32 errorCode, String str)\r\n   at System.IO.Ports.SerialStream..ctor(String portName, Int32 baudRate, Parity parity, Int32 dataBits, StopBits stopBits, Int32 readTimeout, Int32 writeTimeout, Handshake handshake, Boolean dtrEnable, Boolean rtsEnable, Boolean discardNull, Byte parityReplace)\r\n   at System.IO.Ports.SerialPort.Open()\r\n   at Bonsai.Harp.AsyncDevice..ctor(String portName)\r\n   at Harp.VestibularH1.VestibularH1Device..ctor(String portName)",
     "output_type": "error",
     "traceback": [
      "\u001b[1;31m---------------------------------------------------------------------------\u001b[0m",
      "\u001b[1;31mUnauthorizedAccessException\u001b[0m               Traceback (most recent call last)",
      "\u001b[1;32mc:\\Users\\neurogears\\Documents\\git\\neurogears\\bonsai-pylib\\pyharp_test.ipynb Cell 2\u001b[0m in \u001b[0;36m<cell line: 2>\u001b[1;34m()\u001b[0m\n\u001b[0;32m      <a href='vscode-notebook-cell:/c%3A/Users/neurogears/Documents/git/neurogears/bonsai-pylib/pyharp_test.ipynb#X21sZmlsZQ%3D%3D?line=0'>1</a>\u001b[0m \u001b[39m## Connect to the device usign the Async Device class\u001b[39;00m\n\u001b[1;32m----> <a href='vscode-notebook-cell:/c%3A/Users/neurogears/Documents/git/neurogears/bonsai-pylib/pyharp_test.ipynb#X21sZmlsZQ%3D%3D?line=1'>2</a>\u001b[0m dev \u001b[39m=\u001b[39m h1Dev\u001b[39m.\u001b[39;49mVestibularH1Device(\u001b[39m\"\u001b[39;49m\u001b[39mCOM5\u001b[39;49m\u001b[39m\"\u001b[39;49m)\n\u001b[0;32m      <a href='vscode-notebook-cell:/c%3A/Users/neurogears/Documents/git/neurogears/bonsai-pylib/pyharp_test.ipynb#X21sZmlsZQ%3D%3D?line=2'>3</a>\u001b[0m \u001b[39m# Call the Dispose method to close the connection\u001b[39;00m\n\u001b[0;32m      <a href='vscode-notebook-cell:/c%3A/Users/neurogears/Documents/git/neurogears/bonsai-pylib/pyharp_test.ipynb#X21sZmlsZQ%3D%3D?line=3'>4</a>\u001b[0m \u001b[39m#dev.Dispose()\u001b[39;00m\n",
      "\u001b[1;31mUnauthorizedAccessException\u001b[0m: Access to the port 'COM5' is denied.\r\n   at System.IO.Ports.InternalResources.WinIOError(Int32 errorCode, String str)\r\n   at System.IO.Ports.SerialStream..ctor(String portName, Int32 baudRate, Parity parity, Int32 dataBits, StopBits stopBits, Int32 readTimeout, Int32 writeTimeout, Handshake handshake, Boolean dtrEnable, Boolean rtsEnable, Boolean discardNull, Byte parityReplace)\r\n   at System.IO.Ports.SerialPort.Open()\r\n   at Bonsai.Harp.AsyncDevice..ctor(String portName)\r\n   at Harp.VestibularH1.VestibularH1Device..ctor(String portName)"
     ]
    }
   ],
   "source": [
    "## Connect to the device usign the Async Device class\n",
    "dev = h1Dev.VestibularH1Device(\"COM5\")\n",
    "# Call the Dispose method to close the connection\n",
    "#dev.Dispose()"
   ]
  },
  {
   "cell_type": "code",
   "execution_count": null,
   "metadata": {},
   "outputs": [
    {
     "name": "stdout",
     "output_type": "stream",
     "text": [
      "Cam0Event\n"
     ]
    }
   ],
   "source": [
    "# Get the map of available registers\n",
    "RegisterMap = h1Dev.Device().RegisterMap\n",
    "AvailableKeys = list(h1Dev.Device().RegisterMap.Keys)\n",
    "\n",
    "# Get the Name of the register:\n",
    "print(RegisterMap[AvailableKeys[0]])"
   ]
  },
  {
   "cell_type": "code",
   "execution_count": null,
   "metadata": {},
   "outputs": [
    {
     "name": "stdout",
     "output_type": "stream",
     "text": [
      "0\n",
      "0\n",
      "100\n",
      "0\n",
      "0\n",
      "68\n",
      "0\n",
      "Harp.VestibularH1.InStatePayload\n",
      "0\n",
      "0\n",
      "0\n",
      "7\n"
     ]
    }
   ],
   "source": [
    "for key in AvailableKeys:\n",
    "    method = f\"Read{RegisterMap[key]}Async\"\n",
    "    try:\n",
    "        result = getattr(dev, method)().Result\n",
    "        print(result)\n",
    "    except:\n",
    "        pass"
   ]
  },
  {
   "cell_type": "code",
   "execution_count": null,
   "metadata": {},
   "outputs": [
    {
     "name": "stdout",
     "output_type": "stream",
     "text": [
      "[<class 'int'>, 100]\n",
      "[<class 'Harp.VestibularH1.InStatePayload'>, <Harp.VestibularH1.InStatePayload object at 0x000001BCD8091C40>]\n",
      "False\n",
      "False\n"
     ]
    }
   ],
   "source": [
    "# Make an asynchronous call to read a register from the device\n",
    "Cam0Freq = dev.ReadCam0TriggerFrequencyAsync().Result\n",
    "print([type(Cam0Freq), Cam0Freq])\n",
    "\n",
    "# Some registers returned complex parsed values that can be accessed through properties\n",
    "InState = dev.ReadInStateAsync().Result\n",
    "print([type(InState), InState])\n",
    "print(InState.Lick0)\n",
    "print(InState.Lick0Changed)\n",
    "#..."
   ]
  },
  {
   "cell_type": "code",
   "execution_count": null,
   "metadata": {},
   "outputs": [
    {
     "name": "stdout",
     "output_type": "stream",
     "text": [
      "Read 39 TimestampedU8@8391.2975 Length:1\n"
     ]
    }
   ],
   "source": [
    "# Return an harp message from an async read\n",
    "# Note, the correct method still needs to be applied (i.e. \"ReadByte\")\n",
    "harpMessage = dev.CommandAsync(harp.HarpCommand.ReadByte(h1Dev.InState.Address)).Result\n",
    "print(harpMessage)"
   ]
  },
  {
   "cell_type": "code",
   "execution_count": null,
   "metadata": {},
   "outputs": [
    {
     "name": "stdout",
     "output_type": "stream",
     "text": [
      "Write value: 20, Read value: 20\n"
     ]
    }
   ],
   "source": [
    "## Write to a register\n",
    "value = 20\n",
    "Cam0Freq = dev.WriteCam0TriggerFrequencyAsync(value).Result\n",
    "# Confirm the value of the register has changed by reading it back\n",
    "Cam0Freq = dev.ReadCam0TriggerFrequencyAsync().Result\n",
    "print(f\"Write value: {value}, Read value: {Cam0Freq}\")"
   ]
  },
  {
   "cell_type": "code",
   "execution_count": null,
   "metadata": {},
   "outputs": [
    {
     "name": "stdout",
     "output_type": "stream",
     "text": [
      "Write 34 TimestampedU16@8391.7495 Length:1\n"
     ]
    }
   ],
   "source": [
    "# Write an harp message directly\n",
    "# Note, the correct method still needs to be applied (i.e. \"WriteUInt16\")\n",
    "harpMessage = dev.CommandAsync(\n",
    "    harp.HarpCommand.WriteUInt16(\n",
    "        h1Dev.Cam0TriggerFrequency.Address, 100)).Result\n",
    "print(harpMessage)"
   ]
  },
  {
   "cell_type": "code",
   "execution_count": null,
   "metadata": {},
   "outputs": [
    {
     "name": "stdout",
     "output_type": "stream",
     "text": [
      "32\n",
      "Float\n",
      "1.0\n"
     ]
    }
   ],
   "source": [
    "# Manipulate HarpMessage\n",
    "an_harp_message = harp.HarpMessage.FromSingle(32, harp.MessageType.Write, 1.0)\n",
    "print(harp.HarpMessage.get_Address(an_harp_message))\n",
    "print(harp.HarpMessage.get_PayloadType(an_harp_message))\n",
    "print(harp.HarpMessage.GetPayloadSingle(an_harp_message))"
   ]
  },
  {
   "cell_type": "code",
   "execution_count": null,
   "metadata": {},
   "outputs": [
    {
     "ename": "AttributeError",
     "evalue": "Dispose",
     "output_type": "error",
     "traceback": [
      "\u001b[1;31m---------------------------------------------------------------------------\u001b[0m",
      "\u001b[1;31mAttributeError\u001b[0m                            Traceback (most recent call last)",
      "\u001b[1;32mc:\\Users\\neurogears\\Documents\\git\\neurogears\\bonsai-pylib\\pyharp_test.ipynb Cell 10\u001b[0m in \u001b[0;36m<cell line: 1>\u001b[1;34m()\u001b[0m\n\u001b[1;32m----> <a href='vscode-notebook-cell:/c%3A/Users/neurogears/Documents/git/neurogears/bonsai-pylib/pyharp_test.ipynb#X10sZmlsZQ%3D%3D?line=0'>1</a>\u001b[0m h1Dev\u001b[39m.\u001b[39;49mDispose() \u001b[39m# Make sure to dispose the device when done\u001b[39;00m\n",
      "\u001b[1;31mAttributeError\u001b[0m: Dispose"
     ]
    }
   ],
   "source": [
    "h1Dev.Dispose() # Make sure to dispose the device when done\n"
   ]
  },
  {
   "attachments": {},
   "cell_type": "markdown",
   "metadata": {},
   "source": [
    "# Notes\n",
    "- Make the AsyncDevice constructor have a generic name instead of using the device name...\n",
    "\n",
    "- How to apply a \"parse\" or \"format\" on an HarpMessage? Should Cam0TriggerFrequency.Format(value) do this?\n",
    "\n",
    "- Is there a way to write it a register without knowing its type? # E.g.:\n",
    "```python\n",
    "command = h1Dev.Cam0TriggerFrequencyCommand()\n",
    "command.Value = 200\n",
    "\n",
    "harpMessage = dev.CommandAsync(\n",
    "    harp.HarpCommand.Write(command)).Result\n",
    "print(harpMessage)\n",
    "```"
   ]
  }
 ],
 "metadata": {
  "kernelspec": {
   "display_name": "bonsaipylib",
   "language": "python",
   "name": "python3"
  },
  "language_info": {
   "codemirror_mode": {
    "name": "ipython",
    "version": 3
   },
   "file_extension": ".py",
   "mimetype": "text/x-python",
   "name": "python",
   "nbconvert_exporter": "python",
   "pygments_lexer": "ipython3",
   "version": "3.9.16"
  },
  "orig_nbformat": 4,
  "vscode": {
   "interpreter": {
    "hash": "142aaf296a17ec69a5229859294888777f9584141d8b013303a42e4a7fcdf6c7"
   }
  }
 },
 "nbformat": 4,
 "nbformat_minor": 2
}
