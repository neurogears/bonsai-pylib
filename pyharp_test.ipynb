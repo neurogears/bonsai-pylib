{
 "cells": [
  {
   "cell_type": "code",
   "execution_count": 25,
   "metadata": {},
   "outputs": [],
   "source": [
    "import clr\n",
    "from bonsai_pylib import load_bonsai_config\n",
    "load_bonsai_config()\n",
    "\n",
    "# Add reference to the Harp package\n",
    "clr.AddReference(\"Harp.VestibularH1\")\n",
    "import Harp.VestibularH1 as h1Dev\n",
    "clr.AddReference(\"Bonsai.Harp\")\n",
    "import Bonsai.Harp as harp\n"
   ]
  },
  {
   "cell_type": "code",
   "execution_count": 26,
   "metadata": {},
   "outputs": [],
   "source": [
    "## Connect to the device usign the Async Device class\n",
    "dev = h1Dev.VestibularH1Device(\"COM5\")\n",
    "# Call the Dispose method to close the connection\n",
    "#dev.Dispose()"
   ]
  },
  {
   "cell_type": "code",
   "execution_count": 27,
   "metadata": {},
   "outputs": [
    {
     "name": "stdout",
     "output_type": "stream",
     "text": [
      "Cam0Event\n"
     ]
    }
   ],
   "source": [
    "# Get the map of available registers\n",
    "RegisterMap = h1Dev.Device().RegisterMap\n",
    "AvailableKeys = list(h1Dev.Device().RegisterMap.Keys)\n",
    "\n",
    "# Get the Name of the register:\n",
    "print(RegisterMap[AvailableKeys[0]])"
   ]
  },
  {
   "cell_type": "code",
   "execution_count": 28,
   "metadata": {},
   "outputs": [
    {
     "name": "stdout",
     "output_type": "stream",
     "text": [
      "0\n",
      "0\n",
      "100\n",
      "0\n",
      "0\n",
      "68\n",
      "0\n",
      "Harp.VestibularH1.InStatePayload\n",
      "0\n",
      "0\n",
      "0\n",
      "7\n"
     ]
    }
   ],
   "source": [
    "for key in AvailableKeys:\n",
    "    method = f\"Read{RegisterMap[key]}Async\"\n",
    "    try:\n",
    "        result = getattr(dev, method)().Result\n",
    "        print(result)\n",
    "    except:\n",
    "        pass"
   ]
  },
  {
   "cell_type": "code",
   "execution_count": 29,
   "metadata": {},
   "outputs": [
    {
     "name": "stdout",
     "output_type": "stream",
     "text": [
      "[<class 'int'>, 100]\n",
      "[<class 'Harp.VestibularH1.InStatePayload'>, <Harp.VestibularH1.InStatePayload object at 0x000001BCD808ADC0>]\n",
      "False\n",
      "False\n"
     ]
    }
   ],
   "source": [
    "# Make an asynchronous call to read a register from the device\n",
    "Cam0Freq = dev.ReadCam0TriggerFrequencyAsync().Result\n",
    "print([type(Cam0Freq), Cam0Freq])\n",
    "\n",
    "# Some registers returned complex parsed values that can be accessed through properties\n",
    "InState = dev.ReadInStateAsync().Result\n",
    "print([type(InState), InState])\n",
    "print(InState.Lick0)\n",
    "print(InState.Lick0Changed)\n",
    "#..."
   ]
  },
  {
   "cell_type": "code",
   "execution_count": 30,
   "metadata": {},
   "outputs": [
    {
     "name": "stdout",
     "output_type": "stream",
     "text": [
      "Read 39 TimestampedU8@180.0145 Length:1\n"
     ]
    }
   ],
   "source": [
    "# Return an harp message from an async read\n",
    "# Note, the correct method still needs to be applied (i.e. \"ReadByte\")\n",
    "harpMessage = dev.CommandAsync(harp.HarpCommand.ReadByte(h1Dev.InState.Address)).Result\n",
    "print(harpMessage)"
   ]
  },
  {
   "cell_type": "code",
   "execution_count": 31,
   "metadata": {},
   "outputs": [
    {
     "name": "stdout",
     "output_type": "stream",
     "text": [
      "Write value: 20, Read value: 20\n"
     ]
    }
   ],
   "source": [
    "## Write to a register\n",
    "value = 20\n",
    "Cam0Freq = dev.WriteCam0TriggerFrequencyAsync(value).Result\n",
    "# Confirm the value of the register has changed by reading it back\n",
    "Cam0Freq = dev.ReadCam0TriggerFrequencyAsync().Result\n",
    "print(f\"Write value: {value}, Read value: {Cam0Freq}\")"
   ]
  },
  {
   "cell_type": "code",
   "execution_count": 32,
   "metadata": {},
   "outputs": [
    {
     "name": "stdout",
     "output_type": "stream",
     "text": [
      "Write 34 TimestampedU16@180.22048 Length:1\n"
     ]
    }
   ],
   "source": [
    "# Write an harp message directly\n",
    "# Note, the correct method still needs to be applied (i.e. \"WriteUInt16\")\n",
    "harpMessage = dev.CommandAsync(\n",
    "    harp.HarpCommand.WriteUInt16(\n",
    "        h1Dev.Cam0TriggerFrequency.Address, 100)).Result\n",
    "print(harpMessage)"
   ]
  },
  {
   "cell_type": "code",
   "execution_count": 33,
   "metadata": {},
   "outputs": [
    {
     "name": "stdout",
     "output_type": "stream",
     "text": [
      "32\n",
      "Float\n",
      "1.0\n"
     ]
    }
   ],
   "source": [
    "# Manipulate HarpMessage\n",
    "an_harp_message = harp.HarpMessage.FromSingle(32, harp.MessageType.Write, 1.0)\n",
    "print(harp.HarpMessage.get_Address(an_harp_message))\n",
    "print(harp.HarpMessage.get_PayloadType(an_harp_message))\n",
    "print(harp.HarpMessage.GetPayloadSingle(an_harp_message))"
   ]
  },
  {
   "cell_type": "code",
   "execution_count": 34,
   "metadata": {},
   "outputs": [],
   "source": [
    "dev.Dispose() # Make sure to dispose the device when done\n"
   ]
  }
 ],
 "metadata": {
  "kernelspec": {
   "display_name": "bonsaipylib",
   "language": "python",
   "name": "python3"
  },
  "language_info": {
   "codemirror_mode": {
    "name": "ipython",
    "version": 3
   },
   "file_extension": ".py",
   "mimetype": "text/x-python",
   "name": "python",
   "nbconvert_exporter": "python",
   "pygments_lexer": "ipython3",
   "version": "3.9.16"
  },
  "orig_nbformat": 4,
  "vscode": {
   "interpreter": {
    "hash": "142aaf296a17ec69a5229859294888777f9584141d8b013303a42e4a7fcdf6c7"
   }
  }
 },
 "nbformat": 4,
 "nbformat_minor": 2
}
