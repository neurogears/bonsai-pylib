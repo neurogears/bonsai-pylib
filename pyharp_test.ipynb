{
 "cells": [
  {
   "cell_type": "code",
   "execution_count": 105,
   "metadata": {},
   "outputs": [],
   "source": [
    "import clr\n",
    "from bonsai_pylib import load_bonsai_config\n",
    "load_bonsai_config()\n",
    "\n",
    "import System\n",
    "# Add reference to the Harp package\n",
    "clr.AddReference(\"Harp.Behavior\")\n",
    "import Harp.Behavior as behavior\n",
    "clr.AddReference(\"Bonsai.Harp\")\n",
    "import Bonsai.Harp as harp\n"
   ]
  },
  {
   "cell_type": "code",
   "execution_count": 5,
   "metadata": {},
   "outputs": [],
   "source": [
    "## Connect to the device usign the Async Device class\n",
    "dev = behavior.AsyncDevice(\"COM5\")\n",
    "# Call the Dispose method to close the connection\n",
    "#dev.Dispose()"
   ]
  },
  {
   "cell_type": "code",
   "execution_count": 17,
   "metadata": {},
   "outputs": [
    {
     "name": "stdout",
     "output_type": "stream",
     "text": [
      "('WhoAmI', 0)\n",
      "('HardwareVersionHigh', 1)\n",
      "('HardwareVersionLow', 2)\n",
      "('AssemblyVersion', 3)\n",
      "('CoreVersionHigh', 4)\n",
      "('CoreVersionLow', 5)\n",
      "('FirmwareVersionHigh', 6)\n",
      "('FirmwareVersionLow', 7)\n",
      "('TimestampSeconds', 8)\n",
      "('TimestampMicroseconds', 9)\n",
      "('OperationControl', 10)\n",
      "('ResetDevice', 11)\n",
      "('DeviceName', 12)\n",
      "('SerialNumber', 13)\n",
      "('ClockConfiguration', 14)\n",
      "('PortDigitalInput', 32)\n",
      "('OutputSet', 34)\n",
      "('OutputClear', 35)\n",
      "('OutputToggle', 36)\n",
      "('OutputState', 37)\n",
      "('PortDIOSet', 38)\n",
      "('PortDIOClear', 39)\n",
      "('PortDIOToggle', 40)\n",
      "('PortDIOState', 41)\n",
      "('PortDIODirection', 42)\n",
      "('PortDIOStateEvent', 43)\n",
      "('AnalogData', 44)\n",
      "('OutputPulseEnable', 45)\n",
      "('PulseDOPort0', 46)\n",
      "('PulseDOPort1', 47)\n",
      "('PulseDOPort2', 48)\n",
      "('PulseSupplyPort0', 49)\n",
      "('PulseSupplyPort1', 50)\n",
      "('PulseSupplyPort2', 51)\n",
      "('PulseLed0', 52)\n",
      "('PulseLed1', 53)\n",
      "('PulseRgb0', 54)\n",
      "('PulseRgb1', 55)\n",
      "('PulseDO0', 56)\n",
      "('PulseDO1', 57)\n",
      "('PulseDO2', 58)\n",
      "('PulseDO3', 59)\n",
      "('PwmFrequencyDO0', 60)\n",
      "('PwmFrequencyDO1', 61)\n",
      "('PwmFrequencyDO2', 62)\n",
      "('PwmFrequencyDO3', 63)\n",
      "('PwmDutyCycleDO0', 64)\n",
      "('PwmDutyCycleDO1', 65)\n",
      "('PwmDutyCycleDO2', 66)\n",
      "('PwmDutyCycleDO3', 67)\n",
      "('PwmStart', 68)\n",
      "('PwmStop', 69)\n",
      "('RgbAll', 70)\n",
      "('Rgb0', 71)\n",
      "('Rgb1', 72)\n",
      "('Led0Current', 73)\n",
      "('Led1Current', 74)\n",
      "('Led0MaxCurrent', 75)\n",
      "('Led1MaxCurrent', 76)\n",
      "('EventEnable', 77)\n",
      "('StartCameras', 78)\n",
      "('StopCameras', 79)\n",
      "('EnableServos', 80)\n",
      "('DisableServos', 81)\n",
      "('EnableEncoders', 82)\n",
      "('Camera0Frame', 92)\n",
      "('Camera0Frequency', 93)\n",
      "('Camera1Frame', 94)\n",
      "('Camera1Frequency', 95)\n",
      "('ServoMotor2Period', 100)\n",
      "('ServoMotor2Pulse', 101)\n",
      "('ServoMotor3Period', 102)\n",
      "('ServoMotor3Pulse', 103)\n",
      "('EncoderReset', 108)\n",
      "('EnableSerialTimestamp', 110)\n",
      "('MimicPort0IR', 111)\n",
      "('MimicPort1IR', 112)\n",
      "('MimicPort2IR', 113)\n",
      "('MimicPort0Valve', 117)\n",
      "('MimicPort1Valve', 118)\n",
      "('MimicPort2Valve', 119)\n",
      "('PokeInputFilter', 122)\n"
     ]
    },
    {
     "data": {
      "text/plain": [
       "[None,\n",
       " None,\n",
       " None,\n",
       " None,\n",
       " None,\n",
       " None,\n",
       " None,\n",
       " None,\n",
       " None,\n",
       " None,\n",
       " None,\n",
       " None,\n",
       " None,\n",
       " None,\n",
       " None,\n",
       " None,\n",
       " None,\n",
       " None,\n",
       " None,\n",
       " None,\n",
       " None,\n",
       " None,\n",
       " None,\n",
       " None,\n",
       " None,\n",
       " None,\n",
       " None,\n",
       " None,\n",
       " None,\n",
       " None,\n",
       " None,\n",
       " None,\n",
       " None,\n",
       " None,\n",
       " None,\n",
       " None,\n",
       " None,\n",
       " None,\n",
       " None,\n",
       " None,\n",
       " None,\n",
       " None,\n",
       " None,\n",
       " None,\n",
       " None,\n",
       " None,\n",
       " None,\n",
       " None,\n",
       " None,\n",
       " None,\n",
       " None,\n",
       " None,\n",
       " None,\n",
       " None,\n",
       " None,\n",
       " None,\n",
       " None,\n",
       " None,\n",
       " None,\n",
       " None,\n",
       " None,\n",
       " None,\n",
       " None,\n",
       " None,\n",
       " None,\n",
       " None,\n",
       " None,\n",
       " None,\n",
       " None,\n",
       " None,\n",
       " None,\n",
       " None,\n",
       " None,\n",
       " None,\n",
       " None,\n",
       " None,\n",
       " None,\n",
       " None,\n",
       " None,\n",
       " None,\n",
       " None,\n",
       " None]"
      ]
     },
     "execution_count": 17,
     "metadata": {},
     "output_type": "execute_result"
    }
   ],
   "source": [
    "# Get the map of available registers\n",
    "RegisterMap = behavior.Device().RegisterMap\n",
    "AvailableKeys = list(behavior.Device().RegisterMap.Keys)\n",
    "\n",
    "# Get the Name + number of the register:\n",
    "[print((RegisterMap[idx], idx)) for idx in AvailableKeys]"
   ]
  },
  {
   "cell_type": "code",
   "execution_count": 10,
   "metadata": {},
   "outputs": [
    {
     "name": "stdout",
     "output_type": "stream",
     "text": [
      "1216\n",
      "0\n",
      "444\n",
      "29422\n",
      "Bonsai.Harp.OperationControlPayload\n",
      "BootFromDefault\n",
      "Behavior\n",
      "65535\n",
      "RepeaterCapability, GeneratorCapability, ClockUnlock\n",
      "0\n",
      "0\n",
      "0\n",
      "0\n",
      "0\n",
      "0\n",
      "0\n",
      "0\n",
      "0\n",
      "0\n",
      "DIO0, DIO1, DIO2\n",
      "Harp.Behavior.AnalogDataPayload\n",
      "SupplyPort0, SupplyPort1, SupplyPort2\n",
      "500\n",
      "500\n",
      "500\n",
      "15\n",
      "15\n",
      "15\n",
      "500\n",
      "500\n",
      "500\n",
      "500\n",
      "250\n",
      "250\n",
      "250\n",
      "250\n",
      "1000\n",
      "2000\n",
      "3000\n",
      "4000\n",
      "50\n",
      "50\n",
      "50\n",
      "50\n",
      "0\n",
      "0\n",
      "Harp.Behavior.RgbAllPayload\n",
      "Harp.Behavior.RgbPayload\n",
      "Harp.Behavior.RgbPayload\n",
      "10\n",
      "10\n",
      "30\n",
      "30\n",
      "PortDI, PortDIO, AnalogData, Camera0, Camera1\n",
      "0\n",
      "0\n",
      "0\n",
      "0\n",
      "0\n",
      "0\n",
      "30\n",
      "0\n",
      "30\n",
      "20000\n",
      "1500\n",
      "20000\n",
      "1500\n",
      "0\n",
      "0\n",
      "None\n",
      "None\n",
      "None\n",
      "None\n",
      "None\n",
      "None\n",
      "1\n"
     ]
    }
   ],
   "source": [
    "## A simple example on how to access all registers in loop\n",
    "for key in AvailableKeys:\n",
    "    method = f\"Read{RegisterMap[key]}Async\"\n",
    "    try:\n",
    "        result = getattr(dev, method)().Result\n",
    "        print(result)\n",
    "    except:\n",
    "        pass"
   ]
  },
  {
   "cell_type": "code",
   "execution_count": 122,
   "metadata": {},
   "outputs": [
    {
     "ename": "AggregateException",
     "evalue": "One or more errors occurred. ---> System.InvalidOperationException: The port is closed.\r\n   at System.IO.Ports.SerialPort.Write(Byte[] buffer, Int32 offset, Int32 count)\r\n   at Bonsai.Harp.AsyncDevice.<CommandAsync>d__54.MoveNext()\r\n--- End of stack trace from previous location where exception was thrown ---\r\n   at System.Runtime.ExceptionServices.ExceptionDispatchInfo.Throw()\r\n   at System.Runtime.CompilerServices.TaskAwaiter.HandleNonSuccessAndDebuggerNotification(Task task)\r\n   at Harp.Behavior.AsyncDevice.<ReadCamera0FrequencyAsync>d__150.MoveNext()\r\n   --- End of inner exception stack trace ---\r\n   at System.Threading.Tasks.Task`1.GetResultCore(Boolean waitCompletionNotification)\r\n---> (Inner Exception #0) System.InvalidOperationException: The port is closed.\r\n   at System.IO.Ports.SerialPort.Write(Byte[] buffer, Int32 offset, Int32 count)\r\n   at Bonsai.Harp.AsyncDevice.<CommandAsync>d__54.MoveNext()\r\n--- End of stack trace from previous location where exception was thrown ---\r\n   at System.Runtime.ExceptionServices.ExceptionDispatchInfo.Throw()\r\n   at System.Runtime.CompilerServices.TaskAwaiter.HandleNonSuccessAndDebuggerNotification(Task task)\r\n   at Harp.Behavior.AsyncDevice.<ReadCamera0FrequencyAsync>d__150.MoveNext()<---\r\n",
     "output_type": "error",
     "traceback": [
      "\u001b[1;31m---------------------------------------------------------------------------\u001b[0m",
      "\u001b[1;31mInvalidOperationException\u001b[0m                 Traceback (most recent call last)",
      "\u001b[1;31mInvalidOperationException\u001b[0m: The port is closed.\r\n   at System.IO.Ports.SerialPort.Write(Byte[] buffer, Int32 offset, Int32 count)\r\n   at Bonsai.Harp.AsyncDevice.<CommandAsync>d__54.MoveNext()\r\n--- End of stack trace from previous location where exception was thrown ---\r\n   at System.Runtime.ExceptionServices.ExceptionDispatchInfo.Throw()\r\n   at System.Runtime.CompilerServices.TaskAwaiter.HandleNonSuccessAndDebuggerNotification(Task task)\r\n   at Harp.Behavior.AsyncDevice.<ReadCamera0FrequencyAsync>d__150.MoveNext()",
      "\nThe above exception was the direct cause of the following exception:\n",
      "\u001b[1;31mAggregateException\u001b[0m                        Traceback (most recent call last)",
      "\u001b[1;32mc:\\Users\\neurogears\\Documents\\git\\neurogears\\bonsai-pylib\\pyharp_test.ipynb Cell 5\u001b[0m in \u001b[0;36m<cell line: 2>\u001b[1;34m()\u001b[0m\n\u001b[0;32m      <a href='vscode-notebook-cell:/c%3A/Users/neurogears/Documents/git/neurogears/bonsai-pylib/pyharp_test.ipynb#W4sZmlsZQ%3D%3D?line=0'>1</a>\u001b[0m \u001b[39m# Make an asynchronous call to read a register from the device\u001b[39;00m\n\u001b[1;32m----> <a href='vscode-notebook-cell:/c%3A/Users/neurogears/Documents/git/neurogears/bonsai-pylib/pyharp_test.ipynb#W4sZmlsZQ%3D%3D?line=1'>2</a>\u001b[0m Cam0Freq \u001b[39m=\u001b[39m dev\u001b[39m.\u001b[39;49mReadCamera0FrequencyAsync()\u001b[39m.\u001b[39;49mResult\n\u001b[0;32m      <a href='vscode-notebook-cell:/c%3A/Users/neurogears/Documents/git/neurogears/bonsai-pylib/pyharp_test.ipynb#W4sZmlsZQ%3D%3D?line=2'>3</a>\u001b[0m \u001b[39mprint\u001b[39m([\u001b[39mtype\u001b[39m(Cam0Freq), Cam0Freq])\n\u001b[0;32m      <a href='vscode-notebook-cell:/c%3A/Users/neurogears/Documents/git/neurogears/bonsai-pylib/pyharp_test.ipynb#W4sZmlsZQ%3D%3D?line=4'>5</a>\u001b[0m \u001b[39m# Some registers returned complex parsed values that can be accessed through properties\u001b[39;00m\n",
      "\u001b[1;31mAggregateException\u001b[0m: One or more errors occurred. ---> System.InvalidOperationException: The port is closed.\r\n   at System.IO.Ports.SerialPort.Write(Byte[] buffer, Int32 offset, Int32 count)\r\n   at Bonsai.Harp.AsyncDevice.<CommandAsync>d__54.MoveNext()\r\n--- End of stack trace from previous location where exception was thrown ---\r\n   at System.Runtime.ExceptionServices.ExceptionDispatchInfo.Throw()\r\n   at System.Runtime.CompilerServices.TaskAwaiter.HandleNonSuccessAndDebuggerNotification(Task task)\r\n   at Harp.Behavior.AsyncDevice.<ReadCamera0FrequencyAsync>d__150.MoveNext()\r\n   --- End of inner exception stack trace ---\r\n   at System.Threading.Tasks.Task`1.GetResultCore(Boolean waitCompletionNotification)\r\n---> (Inner Exception #0) System.InvalidOperationException: The port is closed.\r\n   at System.IO.Ports.SerialPort.Write(Byte[] buffer, Int32 offset, Int32 count)\r\n   at Bonsai.Harp.AsyncDevice.<CommandAsync>d__54.MoveNext()\r\n--- End of stack trace from previous location where exception was thrown ---\r\n   at System.Runtime.ExceptionServices.ExceptionDispatchInfo.Throw()\r\n   at System.Runtime.CompilerServices.TaskAwaiter.HandleNonSuccessAndDebuggerNotification(Task task)\r\n   at Harp.Behavior.AsyncDevice.<ReadCamera0FrequencyAsync>d__150.MoveNext()<---\r\n"
     ]
    }
   ],
   "source": [
    "# Make an asynchronous call to read a register from the device\n",
    "Cam0Freq = dev.ReadCamera0FrequencyAsync().Result\n",
    "print([type(Cam0Freq), Cam0Freq])\n",
    "\n",
    "# Some registers returned complex parsed values that can be accessed through properties\n",
    "DIO = dev.ReadPortDigitalInputAsync().Result\n",
    "print([type(DIO), DIO])\n",
    "print(DIO) # Gets the value of the payload\n",
    "print(type((DIO) & (DIO.DI0)), DIO.HasFlag(DIO.DI0)) #Extracts the value of the 0th bit using the mask\n",
    "# You can also use:\n",
    "#print(type((DIO) & (DIO.DI0)), int(((DIO) & (DIO.DI0))) == 1)\n",
    "\n"
   ]
  },
  {
   "cell_type": "code",
   "execution_count": 50,
   "metadata": {},
   "outputs": [
    {
     "name": "stdout",
     "output_type": "stream",
     "text": [
      "Read 32 TimestampedU8@1821.44349 Length:1\n",
      "bytearray(b'\\x01\\x0b \\xff\\x11\\x1d\\x07\\x00\\x00#6\\x00\\xb9')\n"
     ]
    }
   ],
   "source": [
    "# Return an harp message from an async read\n",
    "# Note, the correct method still needs to be applied (i.e. \"ReadByte\")\n",
    "harpMessage = dev.CommandAsync(harp.HarpCommand.ReadByte(behavior.PortDigitalInput.Address)).Result\n",
    "print(harpMessage)\n",
    "raw_payload = harpMessage.GetPayload()\n",
    "print(bytearray(raw_payload.get_Array()))"
   ]
  },
  {
   "cell_type": "code",
   "execution_count": 64,
   "metadata": {},
   "outputs": [
    {
     "name": "stdout",
     "output_type": "stream",
     "text": [
      "Read 32 TimestampedU8@2087.50749 Length:1\n",
      "[<class 'Harp.Behavior.DigitalInputs'>, <Harp.Behavior.DigitalInputs object at 0x00000220225E2D40>]\n",
      "0\n",
      "DI1\n",
      "DI0\n"
     ]
    }
   ],
   "source": [
    "# Return an harp message from an async read\n",
    "# Note, here we use the parse-like method \"GetPayload\" to automatically get the value\n",
    "harpMessage = dev.CommandAsync(harp.HarpCommand.ReadByte(behavior.PortDigitalInput.Address)).Result\n",
    "print(harpMessage)\n",
    "parsed_msg = (behavior.PortDigitalInput.GetPayload(harpMessage))\n",
    "print([type(parsed_msg), parsed_msg])\n",
    "\n"
   ]
  },
  {
   "cell_type": "code",
   "execution_count": 114,
   "metadata": {},
   "outputs": [
    {
     "name": "stdout",
     "output_type": "stream",
     "text": [
      "Initial value was: 20, Write value: 30, Read value: 30\n"
     ]
    }
   ],
   "source": [
    "## Write to a register\n",
    "Cam0Freq_0 = dev.ReadCamera0FrequencyAsync().Result\n",
    "\n",
    "value = 30\n",
    "Cam0Freq = dev.WriteCamera0FrequencyAsync(value).Result\n",
    "# Confirm the value of the register has changed by reading it back\n",
    "Cam0Freq = dev.ReadCamera0FrequencyAsync().Result\n",
    "print(f\"Initial value was: {Cam0Freq_0}, Write value: {value}, Read value: {Cam0Freq}\")"
   ]
  },
  {
   "cell_type": "code",
   "execution_count": 116,
   "metadata": {},
   "outputs": [
    {
     "name": "stdout",
     "output_type": "stream",
     "text": [
      "Write 93 TimestampedU16@3546.91648 Length:1\n"
     ]
    }
   ],
   "source": [
    "# Write an harp message directly\n",
    "# Note, the correct method still needs to be applied (i.e. \"WriteUInt16\")\n",
    "harpMessage = dev.CommandAsync(\n",
    "    harp.HarpCommand.WriteUInt16(\n",
    "        behavior.Camera0Frequency.Address, 100)).Result\n",
    "print(harpMessage)"
   ]
  },
  {
   "cell_type": "code",
   "execution_count": 10,
   "metadata": {},
   "outputs": [
    {
     "name": "stdout",
     "output_type": "stream",
     "text": [
      "Write 34 TimestampedU16@14.29248 Length:1\n"
     ]
    }
   ],
   "source": [
    "# Write an harp message directly without knowing the type by using the FromPayload method\n",
    "msg = behavior.Camera0Frequency.FromPayload(harp.MessageType.Write, 100)\n",
    "\n",
    "harpMessage = dev.CommandAsync(\n",
    "    msg).Result\n",
    "print(harpMessage)"
   ]
  },
  {
   "cell_type": "code",
   "execution_count": 11,
   "metadata": {},
   "outputs": [
    {
     "name": "stdout",
     "output_type": "stream",
     "text": [
      "32\n",
      "Float\n",
      "1.0\n"
     ]
    }
   ],
   "source": [
    "# Manipulate HarpMessage\n",
    "an_harp_message = harp.HarpMessage.FromSingle(32, harp.MessageType.Write, 1.0)\n",
    "print(harp.HarpMessage.get_Address(an_harp_message))\n",
    "print(harp.HarpMessage.get_PayloadType(an_harp_message))\n",
    "print(harp.HarpMessage.GetPayloadSingle(an_harp_message))"
   ]
  },
  {
   "cell_type": "code",
   "execution_count": 121,
   "metadata": {},
   "outputs": [],
   "source": [
    "dev.Dispose() # Make sure to dispose the device when done\n"
   ]
  }
 ],
 "metadata": {
  "kernelspec": {
   "display_name": "bonsaipylib",
   "language": "python",
   "name": "python3"
  },
  "language_info": {
   "codemirror_mode": {
    "name": "ipython",
    "version": 3
   },
   "file_extension": ".py",
   "mimetype": "text/x-python",
   "name": "python",
   "nbconvert_exporter": "python",
   "pygments_lexer": "ipython3",
   "version": "3.9.16"
  },
  "orig_nbformat": 4,
  "vscode": {
   "interpreter": {
    "hash": "142aaf296a17ec69a5229859294888777f9584141d8b013303a42e4a7fcdf6c7"
   }
  }
 },
 "nbformat": 4,
 "nbformat_minor": 2
}
