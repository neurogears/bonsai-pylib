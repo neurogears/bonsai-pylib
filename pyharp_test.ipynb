{
 "cells": [
  {
   "cell_type": "code",
   "execution_count": null,
   "metadata": {},
   "outputs": [],
   "source": [
    "import clr\n",
    "import sys, os\n",
    "from bonsai_pylib import load_bonsai_config\n",
    "\n",
    "load_bonsai_config()\n",
    "\n",
    "from System import Byte, Array\n",
    "import System\n",
    "\n",
    "clr.AddReference(\"Bonsai.Harp\")\n",
    "import Bonsai.Harp as harp\n",
    "\n"
   ]
  },
  {
   "cell_type": "code",
   "execution_count": null,
   "metadata": {},
   "outputs": [],
   "source": [
    "a = harp.HarpMessage.FromSingle(32, harp.MessageType.Write, 1.0)\n",
    "print(harp.HarpMessage.get_Address(a))\n",
    "print(harp.HarpMessage.get_PayloadType(a))\n",
    "\n",
    "a = harp.HarpMessage.FromSingle(32, harp.MessageType.Write, 1.0)\n",
    "print(harp.HarpMessage.get_Address(a))\n",
    "print(harp.HarpMessage.get_PayloadType(a))\n",
    "print(harp.HarpMessage.GetPayloadSingle(a))\n"
   ]
  },
  {
   "cell_type": "code",
   "execution_count": null,
   "metadata": {},
   "outputs": [],
   "source": [
    "a = harp.HarpMessage.FromByte(32, harp.MessageType.Write, 20)\n",
    "print(harp.HarpMessage.get_Address(a))\n",
    "print(harp.HarpMessage.get_PayloadType(a))\n",
    "print(harp.HarpMessage.GetPayloadByte(a))\n",
    "\n",
    "a.Address"
   ]
  },
  {
   "cell_type": "code",
   "execution_count": null,
   "metadata": {},
   "outputs": [],
   "source": [
    "## Read Async\n",
    "\n",
    "device = harp.AsyncDevice(\"COM5\")\n",
    "print(device.ReadHardwareVersionAsync().get_Result())\n",
    "print(device.ReadByteAsync(11).get_Result())\n",
    "print(device.ReadInt16Async(44).get_Result())\n",
    "print(device.WriteByteAsync(11,1).get_Result())\n",
    "device.Dispose()\n"
   ]
  }
 ],
 "metadata": {
  "kernelspec": {
   "display_name": "bonsaipylib",
   "language": "python",
   "name": "python3"
  },
  "language_info": {
   "codemirror_mode": {
    "name": "ipython",
    "version": 3
   },
   "file_extension": ".py",
   "mimetype": "text/x-python",
   "name": "python",
   "nbconvert_exporter": "python",
   "pygments_lexer": "ipython3",
   "version": "3.10.9"
  },
  "orig_nbformat": 4,
  "vscode": {
   "interpreter": {
    "hash": "142aaf296a17ec69a5229859294888777f9584141d8b013303a42e4a7fcdf6c7"
   }
  }
 },
 "nbformat": 4,
 "nbformat_minor": 2
}
